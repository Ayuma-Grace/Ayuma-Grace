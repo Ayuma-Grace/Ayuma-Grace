{
  "nbformat": 4,
  "nbformat_minor": 0,
  "metadata": {
    "colab": {
      "provenance": [],
      "authorship_tag": "ABX9TyNeUenYoHFN6Xf9u/kOPXb9",
      "include_colab_link": true
    },
    "kernelspec": {
      "name": "python3",
      "display_name": "Python 3"
    },
    "language_info": {
      "name": "python"
    }
  },
  "cells": [
    {
      "cell_type": "markdown",
      "metadata": {
        "id": "view-in-github",
        "colab_type": "text"
      },
      "source": [
        "<a href=\"https://colab.research.google.com/github/Ayuma-Grace/Ayuma-Grace/blob/main/Python_List_Data_Type_Class_Practice_.ipynb\" target=\"_parent\"><img src=\"https://colab.research.google.com/assets/colab-badge.svg\" alt=\"Open In Colab\"/></a>"
      ]
    },
    {
      "cell_type": "code",
      "execution_count": null,
      "metadata": {
        "id": "mN3njoKXgOLf"
      },
      "outputs": [],
      "source": [
        "#Python List Data types\n",
        "# 1. Properties of a python\n",
        "# a) Store a collection of items(int, floats, complex,Strings, other list) inside a square brackets []\n",
        "# b) Items within a list are ordered: Each item is assigned a numeric value starting from zero\n",
        " #This numeric values allow the items to be accessed -> indexing : [numeric value]\n",
        " #c) List are mutable: Items are canchanged using some methodes\n",
        " #  i) add -> append(), insert()\n",
        " # ii)delete -> del, remove(), pop()"
      ]
    },
    {
      "cell_type": "code",
      "source": [
        "# Empty Lists\n",
        "\n",
        "empty_list = list() # this is an empty list, no item in the list\n",
        "\n",
        "print(len(empty_list)) # 0\n",
        "\n",
        "print(empty_list) # []\n",
        "\n",
        "# Alternatively\n",
        "\n",
        "empty_list = []\n",
        "\n",
        "print(len(empty_list)) # 0\n",
        "\n",
        "print(empty_list) # []"
      ],
      "metadata": {
        "colab": {
          "base_uri": "https://localhost:8080/"
        },
        "id": "ezBFORDckVCk",
        "outputId": "70926f0b-bf9c-459f-d1c2-4bd4c766508b"
      },
      "execution_count": 1,
      "outputs": [
        {
          "output_type": "stream",
          "name": "stdout",
          "text": [
            "0\n",
            "[]\n",
            "0\n",
            "[]\n"
          ]
        }
      ]
    },
    {
      "cell_type": "code",
      "source": [
        "fruit1 = 'banana'\n",
        "\n",
        "fruit2 = 'orange'\n",
        "\n",
        "fruit3 = 'mango'\n",
        "\n",
        "fruit4 = 'lemon'\n",
        "\n",
        "# The disadvantage is that we end up creating so many variables consuming a lot of memory\n",
        "\n",
        "# This makes the program slower.\n",
        "\n",
        "fruits = ['banana', 'orange', 'mango', 'lemon']                     # list of fruits\n",
        "\n",
        "vegetables = ['Tomato', 'Potato', 'Cabbage','Onion', 'Carrot']      # list of vegetables\n",
        "\n",
        "animal_products = ['milk', 'meat', 'butter', 'yoghurt']             # list of animal products\n",
        "\n",
        "web_techs = ['HTML', 'CSS', 'JS', 'React','Redux', 'Node', 'MongDB'] # list of web technologies\n",
        "\n",
        "countries = ['Finland', 'Estonia', 'Denmark', 'Sweden', 'Norway']\n",
        "\n",
        "counties = ['Nairobi', 'Nyeri', 'Kilifi', 'Bomet', 'Kiambu']\n",
        "\n",
        "fibonacci_series = [0, 1, 1, 2, 3, 5, 8, 13, 21, 34, 55]\n",
        "\n",
        "# The most common mistake is that developers forget to add the commas(,)"
      ],
      "metadata": {
        "id": "hxgP9vnTnEU7"
      },
      "execution_count": 5,
      "outputs": []
    },
    {
      "cell_type": "code",
      "source": [
        "\n",
        "# print the number of counties\n",
        "\n",
        "print('Counties:', counties)\n",
        "\n",
        "print('Number of counties:', len(counties))\n",
        "\n",
        "# print the fibonacci series\n",
        "\n",
        "print('Fibonacci series:', fibonacci_series)\n",
        "\n",
        "print('Number of fibonacci series:', len(fibonacci_series))"
      ],
      "metadata": {
        "colab": {
          "base_uri": "https://localhost:8080/"
        },
        "id": "iJR_qhHhnRgx",
        "outputId": "fd092228-9f00-404c-9226-ac97892aa6b9"
      },
      "execution_count": 4,
      "outputs": [
        {
          "output_type": "stream",
          "name": "stdout",
          "text": [
            "Counties: ['Nairobi', 'Nyeri', 'Kilifi', 'Bomet', 'Kiambu']\n",
            "Number of counties: 5\n",
            "Fibonacci series: [0, 1, 1, 2, 3, 5, 8, 13, 21, 34, 55]\n",
            "Number of fibonacci series: 11\n"
          ]
        }
      ]
    },
    {
      "cell_type": "code",
      "source": [
        "# checking items\n",
        "\n",
        "# We use the membership operators: in, not in -> True, False\n",
        "\n",
        "fruits = ['banana', 'orange', 'mango', 'lemon']\n",
        "\n",
        "does_exist = 'banana' in fruits\n",
        "\n",
        "print(does_exist)  # True\n",
        "\n",
        "does_exist = 'lime' in fruits\n",
        "\n",
        "print(does_exist)  # False\n",
        "\n",
        "print('===============')\n",
        "\n",
        "print('banana' in fruits)\n",
        "\n",
        "print('lime' in fruits)\n",
        "\n",
        "print('Mango' in fruits)"
      ],
      "metadata": {
        "colab": {
          "base_uri": "https://localhost:8080/"
        },
        "id": "Olq02UC7tEwP",
        "outputId": "5780feed-315f-4da5-cb9f-fb1ed43c8ecc"
      },
      "execution_count": 6,
      "outputs": [
        {
          "output_type": "stream",
          "name": "stdout",
          "text": [
            "True\n",
            "False\n",
            "===============\n",
            "True\n",
            "False\n",
            "False\n"
          ]
        }
      ]
    }
  ]
}